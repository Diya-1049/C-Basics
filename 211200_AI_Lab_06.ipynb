{
  "nbformat": 4,
  "nbformat_minor": 0,
  "metadata": {
    "colab": {
      "provenance": [],
      "authorship_tag": "ABX9TyNUD4p5K8ZIUhPyDzU2CJub",
      "include_colab_link": true
    },
    "kernelspec": {
      "name": "python3",
      "display_name": "Python 3"
    },
    "language_info": {
      "name": "python"
    }
  },
  "cells": [
    {
      "cell_type": "markdown",
      "metadata": {
        "id": "view-in-github",
        "colab_type": "text"
      },
      "source": [
        "<a href=\"https://colab.research.google.com/github/Diya-1049/C-Basics/blob/main/211200_AI_Lab_06.ipynb\" target=\"_parent\"><img src=\"https://colab.research.google.com/assets/colab-badge.svg\" alt=\"Open In Colab\"/></a>"
      ]
    },
    {
      "cell_type": "code",
      "source": [
        "graph = {\n",
        "    '5' : ['3','7'],\n",
        "    '3' : ['2', '4'],\n",
        "    '7' : ['8'],\n",
        "    '2' : [],\n",
        "    '4' : ['8'],\n",
        "    '8' : []\n",
        "}\n",
        "visited = set() # Changed visited to be a set instead of list to use the add() function\n",
        "queue = []     #Initialize a queue\n",
        "\n",
        "# DFS Function\n",
        "def dfs(visited, graph, node):\n",
        "    if node not in visited:\n",
        "        print (node)\n",
        "        visited.add(node)\n",
        "        for neighbour in graph[node]:\n",
        "            dfs(visited, graph, neighbour)\n",
        "# Driver Code\n",
        "print(\"Following is the Depth-First Search\")\n",
        "dfs(visited, graph, '5')"
      ],
      "metadata": {
        "colab": {
          "base_uri": "https://localhost:8080/"
        },
        "id": "3ck8s9eZ9k6s",
        "outputId": "ebc5da2f-5348-4021-cb3f-e051afb6ebdc"
      },
      "execution_count": 2,
      "outputs": [
        {
          "output_type": "stream",
          "name": "stdout",
          "text": [
            "Following is the Depth-First Search\n",
            "5\n",
            "3\n",
            "2\n",
            "4\n",
            "8\n",
            "7\n"
          ]
        }
      ]
    },
    {
      "cell_type": "code",
      "source": [
        "graph = {\n",
        "    '5' : ['3','7'],\n",
        "    '3' : ['2', '4'],\n",
        "    '7' : ['8'],\n",
        "    '2' : [],\n",
        "    '4' : ['8'],\n",
        "    '8' : []\n",
        "}\n",
        "visited = set() # Changed visited to be a set instead of list to use the add() function\n",
        "queue = []     #Initialize a queue\n",
        "# I want to set '8' as the goal and want to terminate the program using dfs\n",
        "def dfs(visited, graph, node, goal='8'):  # Added goal parameter with default value '8'\n",
        "    visited.add(node)\n",
        "    print(node, end=\" \")\n",
        "    if node == goal:\n",
        "        print(\"\\nGoal Reached!\")\n",
        "        return True  # Return True to indicate goal is found\n",
        "\n",
        "    for neighbour in graph[node]:\n",
        "        if neighbour not in visited:\n",
        "            if dfs(visited, graph, neighbour, goal):  # Recursively call dfs and check if goal is found\n",
        "                return True  # If goal is found in a recursive call, return True\n",
        "    return False  # Return False if goal is not found in this branch\n",
        "\n",
        "# Driver Code\n",
        "print(\"Following is the Depth-First Search\")\n",
        "if not dfs(visited, graph, '5'):\n",
        "    print(\"\\nGoal Not Reached!\")"
      ],
      "metadata": {
        "colab": {
          "base_uri": "https://localhost:8080/"
        },
        "id": "SEdGxuhkBiGc",
        "outputId": "ab113242-9478-4e50-fbdb-6230bde239c0"
      },
      "execution_count": 27,
      "outputs": [
        {
          "output_type": "stream",
          "name": "stdout",
          "text": [
            "Following is the Depth-First Search\n",
            "5 3 2 4 8 \n",
            "Goal Reached!\n"
          ]
        }
      ]
    },
    {
      "cell_type": "code",
      "source": [
        "graph = {\n",
        "    '5' : ['3','7'],\n",
        "    '3' : ['2', '4'],\n",
        "    '7' : ['8'],\n",
        "    '2' : [],\n",
        "    '4' : ['8'],\n",
        "    '8' : []\n",
        "}\n",
        "visited = set() # Changed visited to be a set instead of list to use the add() function\n",
        "queue = []     #Initialize a queue\n",
        "# I want to set '2' as the goal and want to terminate the program using dfs\n",
        "def dfs(visited, graph, node, goal='2'):  # Added goal parameter with default value '2'\n",
        "    visited.add(node)\n",
        "    print(node, end=\" \")\n",
        "    if node == goal:\n",
        "        print(\"\\nGoal Reached!\")\n",
        "        return True  # Return True to indicate goal is found\n",
        "\n",
        "    for neighbour in graph[node]:\n",
        "        if neighbour not in visited:\n",
        "            if dfs(visited, graph, neighbour, goal):  # Recursively call dfs and check if goal is found\n",
        "                return True  # If goal is found in a recursive call, return True\n",
        "    return False  # Return False if goal is not found in this branch\n",
        "\n",
        "# Driver Code\n",
        "print(\"Following is the Depth-First Search\")\n",
        "if not dfs(visited, graph, '5'):\n",
        "    print(\"\\nGoal Not Reached!\")"
      ],
      "metadata": {
        "colab": {
          "base_uri": "https://localhost:8080/"
        },
        "id": "k6wLMlbqDcSl",
        "outputId": "4896b7c5-04dc-4ebe-9fd3-10eb9e1e6633"
      },
      "execution_count": 28,
      "outputs": [
        {
          "output_type": "stream",
          "name": "stdout",
          "text": [
            "Following is the Depth-First Search\n",
            "5 3 2 \n",
            "Goal Reached!\n"
          ]
        }
      ]
    },
    {
      "cell_type": "code",
      "source": [
        "graph = {\n",
        "  'A' : ['B','C'],\n",
        "  'B' : ['D', 'E'],\n",
        "  'C' : ['F', 'G'],\n",
        "  'D' : ['H'],\n",
        "  'E' : ['I','J'],\n",
        "  'F' : ['K'],\n",
        "  'G' : ['L','M'],\n",
        "  'H' : [],\n",
        "  'I' : [],\n",
        "  'J' : [],\n",
        "  'K' : [],\n",
        "  'L' : [],\n",
        "  'M' : ['N'],\n",
        "  'N' : []}\n",
        "visited = set() # List to keep track of visited nodes.\n",
        "queue = []     #Initialize a queue\n",
        "def dfs(visited, graph, node):  #function for dfs\n",
        "    if node not in visited:\n",
        "        print (node)\n",
        "        visited.add(node)\n",
        "        for neighbour in graph[node]:\n",
        "            dfs(visited, graph, neighbour)\n",
        "# Driver Code\n",
        "print(\"Following is the Depth-First Search\")\n",
        "dfs(visited, graph, 'A')"
      ],
      "metadata": {
        "colab": {
          "base_uri": "https://localhost:8080/"
        },
        "id": "RnoZFcOHGJ4O",
        "outputId": "4ec8b5c9-4e2d-4b19-b5ee-47cf27b72d12"
      },
      "execution_count": 29,
      "outputs": [
        {
          "output_type": "stream",
          "name": "stdout",
          "text": [
            "Following is the Depth-First Search\n",
            "A\n",
            "B\n",
            "D\n",
            "H\n",
            "E\n",
            "I\n",
            "J\n",
            "C\n",
            "F\n",
            "K\n",
            "G\n",
            "L\n",
            "M\n",
            "N\n"
          ]
        }
      ]
    }
  ]
}