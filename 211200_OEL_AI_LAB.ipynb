{
  "nbformat": 4,
  "nbformat_minor": 0,
  "metadata": {
    "colab": {
      "provenance": [],
      "authorship_tag": "ABX9TyMHAycAABJ91vrTbHd530NL",
      "include_colab_link": true
    },
    "kernelspec": {
      "name": "python3",
      "display_name": "Python 3"
    },
    "language_info": {
      "name": "python"
    }
  },
  "cells": [
    {
      "cell_type": "markdown",
      "metadata": {
        "id": "view-in-github",
        "colab_type": "text"
      },
      "source": [
        "<a href=\"https://colab.research.google.com/github/Diya-1049/C-Basics/blob/main/211200_OEL_AI_LAB.ipynb\" target=\"_parent\"><img src=\"https://colab.research.google.com/assets/colab-badge.svg\" alt=\"Open In Colab\"/></a>"
      ]
    },
    {
      "cell_type": "code",
      "execution_count": 1,
      "metadata": {
        "id": "z0n6wz9xQN3z",
        "colab": {
          "base_uri": "https://localhost:8080/",
          "height": 70
        },
        "outputId": "eb011e37-8ba5-42d3-ab10-ecf7012eef23"
      },
      "outputs": [
        {
          "output_type": "stream",
          "name": "stdout",
          "text": [
            "Greedy Best First Search:\n",
            "['1', '3', '7'] Cost:  13\n"
          ]
        },
        {
          "output_type": "execute_result",
          "data": {
            "text/plain": [
              "'7'"
            ],
            "application/vnd.google.colaboratory.intrinsic+json": {
              "type": "string"
            }
          },
          "metadata": {},
          "execution_count": 1
        }
      ],
      "source": [
        "graph = {\n",
        "    '1' : {'2' : 2, '3' : 11, '4' : 1},\n",
        "    '2' : {'5' : 3},\n",
        "    '3' : {'6' : 1, '7' : 1, '2' : 2},\n",
        "    '4' : {'6' : 15, '3' : 12},\n",
        "    '5' : {'3' : 5, '7' : 7},\n",
        "    '6' : {'7' : 1},\n",
        "    '7' : {}\n",
        "}\n",
        "\n",
        "h = {\n",
        "    '1' : 8,\n",
        "    '2' : 7,\n",
        "    '3' : 5,\n",
        "    '4' : 11,\n",
        "    '5' : 5,\n",
        "    '6' : 1,\n",
        "    '7' : 0\n",
        "}\n",
        "# GREEDY BFS implementation\n",
        "def greedy_best_first(graph, h, start, goal):\n",
        "    open_list = []\n",
        "    open_list.append([h[start], start])\n",
        "    path = []\n",
        "    cost = 0\n",
        "    while len(open_list) > 0:\n",
        "        open_list.sort()\n",
        "        current = open_list.pop(0)\n",
        "        path.append(current[1])\n",
        "        new_cost = h[current[1]]\n",
        "        cost = cost + new_cost\n",
        "        if current[1] == goal:\n",
        "            print(path, end=\" \")\n",
        "            print(\"Cost: \", cost)\n",
        "            return current[1]\n",
        "        for i in graph[current[1]]:\n",
        "            if i not in path:\n",
        "                open_list.append([h[i], i])\n",
        "    return None\n",
        "#Driver Code\n",
        "print(\"Greedy Best First Search:\")\n",
        "greedy_best_first(graph, h, '1', '7')"
      ]
    }
  ]
}