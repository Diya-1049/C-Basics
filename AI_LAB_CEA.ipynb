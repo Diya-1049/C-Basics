{
  "nbformat": 4,
  "nbformat_minor": 0,
  "metadata": {
    "colab": {
      "provenance": [],
      "authorship_tag": "ABX9TyPCtlaWqFAH6OsbQi0raHu9",
      "include_colab_link": true
    },
    "kernelspec": {
      "name": "python3",
      "display_name": "Python 3"
    },
    "language_info": {
      "name": "python"
    }
  },
  "cells": [
    {
      "cell_type": "markdown",
      "metadata": {
        "id": "view-in-github",
        "colab_type": "text"
      },
      "source": [
        "<a href=\"https://colab.research.google.com/github/Diya-1049/C-Basics/blob/main/AI_LAB_CEA.ipynb\" target=\"_parent\"><img src=\"https://colab.research.google.com/assets/colab-badge.svg\" alt=\"Open In Colab\"/></a>"
      ]
    },
    {
      "cell_type": "markdown",
      "source": [
        "**B.F.S**"
      ],
      "metadata": {
        "id": "xVvnFpidNupw"
      }
    },
    {
      "cell_type": "code",
      "source": [
        "import heapq\n",
        "graph = {\n",
        "'S': [('N1', 2), ('N2', 1),('N3',1)],\n",
        "'N1': [('T',1)],\n",
        "'N3': [],\n",
        "'N2': [('N4', 1), ('T', 2)],\n",
        "'N4': [],\n",
        "'T': [('N5',2), ('N6',1)],\n",
        "'N5': [('D', 2)],\n",
        "'N6': [('D', 1), ('N7', 1)],\n",
        "'N7': [],\n",
        "}\n",
        "def best_first_search(graph, start, target):\n",
        "\n",
        "  visited = set()\n",
        "  priority_queue = [(0, start)]\n",
        "  parents = {start: None}\n",
        "  while priority_queue:\n",
        "   current_cost, current_node = heapq.heappop(priority_queue)\n",
        "   if current_node in visited:\n",
        "    continue\n",
        "   visited.add(current_node)\n",
        "   print(f\"Visiting: {current_node}, Cost: {current_cost}\")\n",
        "   if current_node == target:\n",
        "    path = []\n",
        "    # The following lines should be indented to be within the 'if' block\n",
        "    while current_node:\n",
        "     path.append(current_node)\n",
        "     current_node = parents[current_node]\n",
        "    path.reverse()\n",
        "    print(f\"Path: {' => '.join(path)}, Total Cost: {current_cost}\")\n",
        "    return True\n",
        "   for neighbor, cost in graph.get(current_node, []):\n",
        "     if neighbor not in visited:\n",
        "      heapq.heappush(priority_queue, (current_cost + cost, neighbor))\n",
        "      parents[neighbor] = current_node\n",
        "  print(\"Target not found.\") # This line should be outside the 'while' loop\n",
        "  return False # This line should be outside the 'while' loop\n",
        "best_first_search(graph, start='S', target='D')"
      ],
      "metadata": {
        "colab": {
          "base_uri": "https://localhost:8080/"
        },
        "id": "alW3DAw7sZ59",
        "outputId": "43005b40-14bb-4986-e2d1-51eb829cb390"
      },
      "execution_count": 2,
      "outputs": [
        {
          "output_type": "stream",
          "name": "stdout",
          "text": [
            "Visiting: S, Cost: 0\n",
            "Visiting: N2, Cost: 1\n",
            "Visiting: N3, Cost: 1\n",
            "Visiting: N1, Cost: 2\n",
            "Visiting: N4, Cost: 2\n",
            "Visiting: T, Cost: 3\n",
            "Visiting: N6, Cost: 4\n",
            "Visiting: D, Cost: 5\n",
            "Path: S => N1 => T => N6 => D, Total Cost: 5\n"
          ]
        },
        {
          "output_type": "execute_result",
          "data": {
            "text/plain": [
              "True"
            ]
          },
          "metadata": {},
          "execution_count": 2
        }
      ]
    },
    {
      "cell_type": "markdown",
      "source": [
        "**Greedy B.F.S**"
      ],
      "metadata": {
        "id": "WxZ32oUWNvid"
      }
    },
    {
      "cell_type": "code",
      "source": [
        "import heapq\n",
        "\n",
        "graph = {\n",
        "'S': [('N1', 2), ('N2', 1),('N3',1)],\n",
        "'N1': [('T',1)],\n",
        "'N3': [],\n",
        "'N2': [('N4', 1), ('T', 2)],\n",
        "'N4': [],\n",
        "'T': [('N5',2), ('N6',1)],\n",
        "'N5': [('D', 2)],\n",
        "'N6': [('D', 1), ('N7', 1)],\n",
        "'N7': [],\n",
        "}\n",
        "\n",
        "def greedy_best_first_search(graph, start, target, heuristic):\n",
        "    visited = set()\n",
        "    priority_queue = [(heuristic[start], start)]\n",
        "    parents = {start: None}\n",
        "    # total_heuristic_cost = 0   # Remove this line\n",
        "    while priority_queue:\n",
        "        current_heuristic, current_node = heapq.heappop(priority_queue)\n",
        "        if current_node in visited:\n",
        "            continue\n",
        "        visited.add(current_node)\n",
        "        # total_heuristic_cost += current_heuristic   # Remove this line\n",
        "        print(f\"Visiting Node: {current_node}, Heuristic Node: {heuristic[current_node]}\")\n",
        "        if current_node == target:\n",
        "            # Reconstruct path\n",
        "            path = []  # Initialize path here, within the 'if' block\n",
        "            total_heuristic_cost = 0  # Initialize here\n",
        "            while current_node:\n",
        "                path.append(current_node)\n",
        "                total_heuristic_cost += heuristic[current_node]  # Add heuristic of path nodes\n",
        "                current_node = parents[current_node]\n",
        "            path.reverse()\n",
        "            print(f\"Path: {' => '.join(path)}\")\n",
        "            print(f\"Total heuristic cost: {total_heuristic_cost}\")  # Print the correct cost\n",
        "            return True\n",
        "        for neighbor, _ in graph.get(current_node, []):\n",
        "            if neighbor not in visited:\n",
        "                heapq.heappush(priority_queue, (heuristic[neighbor], neighbor))\n",
        "                parents[neighbor] = current_node\n",
        "    # The following lines should be outside the 'while' loop\n",
        "    print(\"Target not found.\")\n",
        "    return False\n",
        "\n",
        "heuristic = {\n",
        "'S': 2,\n",
        "'N1': 1,\n",
        "'N2': 2,\n",
        "'N3': 1,\n",
        "'N4': 1,\n",
        "'T': 1,\n",
        "'N5': 2,\n",
        "'N6': 1,\n",
        "'N7': 1,\n",
        "'D': 0,\n",
        "}\n",
        "target_node = 'D'\n",
        "print(f\"Following is the Greedy Best-First Search for target: {target_node}\")\n",
        "greedy_best_first_search(graph, start='S', target=target_node, heuristic=heuristic)"
      ],
      "metadata": {
        "colab": {
          "base_uri": "https://localhost:8080/"
        },
        "id": "0YhtwVob3Sv7",
        "outputId": "44ba0aa6-ad33-4b01-89ae-20a86b680a3a"
      },
      "execution_count": 6,
      "outputs": [
        {
          "output_type": "stream",
          "name": "stdout",
          "text": [
            "Following is the Greedy Best-First Search for target: D\n",
            "Visiting Node: S, Heuristic Node: 2\n",
            "Visiting Node: N1, Heuristic Node: 1\n",
            "Visiting Node: N3, Heuristic Node: 1\n",
            "Visiting Node: T, Heuristic Node: 1\n",
            "Visiting Node: N6, Heuristic Node: 1\n",
            "Visiting Node: D, Heuristic Node: 0\n",
            "Path: S => N1 => T => N6 => D\n",
            "Total heuristic cost: 5\n"
          ]
        },
        {
          "output_type": "execute_result",
          "data": {
            "text/plain": [
              "True"
            ]
          },
          "metadata": {},
          "execution_count": 6
        }
      ]
    },
    {
      "cell_type": "markdown",
      "source": [
        "**A* Search**"
      ],
      "metadata": {
        "id": "vDQMNjeANv3C"
      }
    },
    {
      "cell_type": "code",
      "source": [
        "import heapq\n",
        "\n",
        "graph = {\n",
        "    'S': [('N1', 2), ('N2', 1), ('N3', 1)],\n",
        "    'N1': [('T', 1)],\n",
        "    'N3': [],\n",
        "    'N2': [('N4', 1), ('T', 2)],\n",
        "    'N4': [],\n",
        "    'T': [('N5', 2), ('N6', 1)],\n",
        "    'N5': [('D', 2)],\n",
        "    'N6': [('D', 1), ('N7', 1)],\n",
        "    'N7': [],\n",
        "}\n",
        "\n",
        "def a_star_search(graph, start, target, heuristic):\n",
        "    visited = set()\n",
        "    priority_queue = [(heuristic[start], 0, start)]  # (f(n), g(n), node)\n",
        "    parents = {start: None}\n",
        "    g_cost = {start: 0}  # Actual cost from start node\n",
        "\n",
        "    while priority_queue:\n",
        "        current_f_cost, current_g_cost, current_node = heapq.heappop(priority_queue)\n",
        "\n",
        "        if current_node in visited:\n",
        "            continue\n",
        "        visited.add(current_node)\n",
        "\n",
        "        print(f\"Visiting: {current_node}\")\n",
        "        print(f\"  g(n): {current_g_cost} (Actual cost)\")\n",
        "        print(f\"  h(n): {heuristic[current_node]} (Heuristic cost)\")\n",
        "        print(f\"  f(n): {current_f_cost} (Total cost)\")\n",
        "\n",
        "        if current_node == target:\n",
        "            # Reconstruct path\n",
        "            path = []\n",
        "            while current_node:\n",
        "                path.append(current_node)\n",
        "                current_node = parents[current_node]\n",
        "            path.reverse()\n",
        "            print(f\"Path: {' => '.join(path)}\")\n",
        "            print(f\"Total cost (g(n)): {current_g_cost}\")\n",
        "            return True  # The function should return after finding the path\n",
        "\n",
        "        for neighbor, cost in graph.get(current_node, []):\n",
        "            if neighbor not in visited:\n",
        "                new_g_cost = current_g_cost + cost\n",
        "                f_cost = new_g_cost + heuristic[neighbor]\n",
        "\n",
        "                if neighbor not in g_cost or new_g_cost < g_cost[neighbor]:\n",
        "                    g_cost[neighbor] = new_g_cost\n",
        "                    parents[neighbor] = current_node\n",
        "                    heapq.heappush(priority_queue, (f_cost, new_g_cost, neighbor))\n",
        "\n",
        "    print(\"Target not found.\")  # Print if target is not found after loop\n",
        "    return False # The function should return False after loop if target not found\n",
        "\n",
        "heuristic = {\n",
        "    'S': 2,\n",
        "    'N1': 1,\n",
        "    'N2': 2,\n",
        "    'N3': 1,\n",
        "    'N4': 1,\n",
        "    'T': 1,\n",
        "    'N5': 2,\n",
        "    'N6': 1,\n",
        "    'N7': 1,\n",
        "    'D': 0,\n",
        "}\n",
        "\n",
        "target_node = 'D'\n",
        "print(f\"Following is the A* Search for target: {target_node}\")\n",
        "a_star_search(graph, start='S', target=target_node, heuristic=heuristic)"
      ],
      "metadata": {
        "colab": {
          "base_uri": "https://localhost:8080/"
        },
        "id": "4faNIHS-7a4u",
        "outputId": "fa1f7ccd-18b8-49a8-957d-56021c645261"
      },
      "execution_count": 9,
      "outputs": [
        {
          "output_type": "stream",
          "name": "stdout",
          "text": [
            "Following is the A* Search for target: D\n",
            "Visiting: S\n",
            "  g(n): 0 (Actual cost)\n",
            "  h(n): 2 (Heuristic cost)\n",
            "  f(n): 2 (Total cost)\n",
            "Visiting: N3\n",
            "  g(n): 1 (Actual cost)\n",
            "  h(n): 1 (Heuristic cost)\n",
            "  f(n): 2 (Total cost)\n",
            "Visiting: N2\n",
            "  g(n): 1 (Actual cost)\n",
            "  h(n): 2 (Heuristic cost)\n",
            "  f(n): 3 (Total cost)\n",
            "Visiting: N1\n",
            "  g(n): 2 (Actual cost)\n",
            "  h(n): 1 (Heuristic cost)\n",
            "  f(n): 3 (Total cost)\n",
            "Visiting: N4\n",
            "  g(n): 2 (Actual cost)\n",
            "  h(n): 1 (Heuristic cost)\n",
            "  f(n): 3 (Total cost)\n",
            "Visiting: T\n",
            "  g(n): 3 (Actual cost)\n",
            "  h(n): 1 (Heuristic cost)\n",
            "  f(n): 4 (Total cost)\n",
            "Visiting: N6\n",
            "  g(n): 4 (Actual cost)\n",
            "  h(n): 1 (Heuristic cost)\n",
            "  f(n): 5 (Total cost)\n",
            "Visiting: D\n",
            "  g(n): 5 (Actual cost)\n",
            "  h(n): 0 (Heuristic cost)\n",
            "  f(n): 5 (Total cost)\n",
            "Path: S => N2 => T => N6 => D\n",
            "Total cost (g(n)): 5\n"
          ]
        },
        {
          "output_type": "execute_result",
          "data": {
            "text/plain": [
              "True"
            ]
          },
          "metadata": {},
          "execution_count": 9
        }
      ]
    }
  ]
}